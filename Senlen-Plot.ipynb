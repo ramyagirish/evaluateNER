{
 "cells": [
  {
   "cell_type": "code",
   "execution_count": 6,
   "metadata": {},
   "outputs": [],
   "source": [
    "import csv\n",
    "import pandas as pd\n",
    "\n",
    "mypath = \"C:/Users/vajjalas/Desktop/NERProject/evaluateNER/results/senlen-stats.csv\"\n",
    "df = pd.read_csv(mypath,\n",
    "                 delimiter=\",\", quoting=csv.QUOTE_NONE, encoding='utf-8', header=0)"
   ]
  },
  {
   "cell_type": "code",
   "execution_count": 18,
   "metadata": {},
   "outputs": [
    {
     "data": {
      "text/plain": [
       "Index(['sentid', ' sentlen', ' numents', ' percentcorrect_spacy',\n",
       "       ' percentcorrect_stanza'],\n",
       "      dtype='object')"
      ]
     },
     "execution_count": 18,
     "metadata": {},
     "output_type": "execute_result"
    }
   ],
   "source": [
    "df.columns"
   ]
  },
  {
   "cell_type": "code",
   "execution_count": 22,
   "metadata": {},
   "outputs": [],
   "source": [
    "\n",
    "df1 = df[[' numents', ' percentcorrect_spacy', ' percentcorrect_stanza']]"
   ]
  },
  {
   "cell_type": "code",
   "execution_count": 23,
   "metadata": {},
   "outputs": [
    {
     "data": {
      "text/html": [
       "<div>\n",
       "<style scoped>\n",
       "    .dataframe tbody tr th:only-of-type {\n",
       "        vertical-align: middle;\n",
       "    }\n",
       "\n",
       "    .dataframe tbody tr th {\n",
       "        vertical-align: top;\n",
       "    }\n",
       "\n",
       "    .dataframe thead th {\n",
       "        text-align: right;\n",
       "    }\n",
       "</style>\n",
       "<table border=\"1\" class=\"dataframe\">\n",
       "  <thead>\n",
       "    <tr style=\"text-align: right;\">\n",
       "      <th></th>\n",
       "      <th>percentcorrect_spacy</th>\n",
       "      <th>percentcorrect_stanza</th>\n",
       "    </tr>\n",
       "    <tr>\n",
       "      <th>numents</th>\n",
       "      <th></th>\n",
       "      <th></th>\n",
       "    </tr>\n",
       "  </thead>\n",
       "  <tbody>\n",
       "    <tr>\n",
       "      <th>0</th>\n",
       "      <td>0.000000</td>\n",
       "      <td>0.000000</td>\n",
       "    </tr>\n",
       "    <tr>\n",
       "      <th>1</th>\n",
       "      <td>0.772461</td>\n",
       "      <td>0.867092</td>\n",
       "    </tr>\n",
       "    <tr>\n",
       "      <th>2</th>\n",
       "      <td>0.822106</td>\n",
       "      <td>0.877609</td>\n",
       "    </tr>\n",
       "    <tr>\n",
       "      <th>3</th>\n",
       "      <td>0.875530</td>\n",
       "      <td>0.902405</td>\n",
       "    </tr>\n",
       "    <tr>\n",
       "      <th>4</th>\n",
       "      <td>0.861575</td>\n",
       "      <td>0.898568</td>\n",
       "    </tr>\n",
       "    <tr>\n",
       "      <th>5</th>\n",
       "      <td>0.875912</td>\n",
       "      <td>0.905839</td>\n",
       "    </tr>\n",
       "    <tr>\n",
       "      <th>6</th>\n",
       "      <td>0.864368</td>\n",
       "      <td>0.916092</td>\n",
       "    </tr>\n",
       "    <tr>\n",
       "      <th>7</th>\n",
       "      <td>0.841558</td>\n",
       "      <td>0.903896</td>\n",
       "    </tr>\n",
       "    <tr>\n",
       "      <th>8</th>\n",
       "      <td>0.884375</td>\n",
       "      <td>0.887500</td>\n",
       "    </tr>\n",
       "    <tr>\n",
       "      <th>9</th>\n",
       "      <td>0.898990</td>\n",
       "      <td>0.944444</td>\n",
       "    </tr>\n",
       "    <tr>\n",
       "      <th>10</th>\n",
       "      <td>0.955556</td>\n",
       "      <td>0.966667</td>\n",
       "    </tr>\n",
       "    <tr>\n",
       "      <th>11</th>\n",
       "      <td>0.854545</td>\n",
       "      <td>0.927273</td>\n",
       "    </tr>\n",
       "    <tr>\n",
       "      <th>12</th>\n",
       "      <td>0.812500</td>\n",
       "      <td>0.916667</td>\n",
       "    </tr>\n",
       "    <tr>\n",
       "      <th>15</th>\n",
       "      <td>1.000000</td>\n",
       "      <td>1.000000</td>\n",
       "    </tr>\n",
       "    <tr>\n",
       "      <th>16</th>\n",
       "      <td>1.000000</td>\n",
       "      <td>1.000000</td>\n",
       "    </tr>\n",
       "    <tr>\n",
       "      <th>17</th>\n",
       "      <td>0.882353</td>\n",
       "      <td>0.705882</td>\n",
       "    </tr>\n",
       "    <tr>\n",
       "      <th>18</th>\n",
       "      <td>1.000000</td>\n",
       "      <td>0.944444</td>\n",
       "    </tr>\n",
       "    <tr>\n",
       "      <th>21</th>\n",
       "      <td>0.904762</td>\n",
       "      <td>0.904762</td>\n",
       "    </tr>\n",
       "  </tbody>\n",
       "</table>\n",
       "</div>"
      ],
      "text/plain": [
       "           percentcorrect_spacy   percentcorrect_stanza\n",
       " numents                                               \n",
       "0                      0.000000                0.000000\n",
       "1                      0.772461                0.867092\n",
       "2                      0.822106                0.877609\n",
       "3                      0.875530                0.902405\n",
       "4                      0.861575                0.898568\n",
       "5                      0.875912                0.905839\n",
       "6                      0.864368                0.916092\n",
       "7                      0.841558                0.903896\n",
       "8                      0.884375                0.887500\n",
       "9                      0.898990                0.944444\n",
       "10                     0.955556                0.966667\n",
       "11                     0.854545                0.927273\n",
       "12                     0.812500                0.916667\n",
       "15                     1.000000                1.000000\n",
       "16                     1.000000                1.000000\n",
       "17                     0.882353                0.705882\n",
       "18                     1.000000                0.944444\n",
       "21                     0.904762                0.904762"
      ]
     },
     "execution_count": 23,
     "metadata": {},
     "output_type": "execute_result"
    }
   ],
   "source": [
    "df1.groupby([' numents']).mean()"
   ]
  },
  {
   "cell_type": "code",
   "execution_count": 24,
   "metadata": {},
   "outputs": [
    {
     "data": {
      "text/plain": [
       "0     3638\n",
       "1     1881\n",
       "2     1054\n",
       "3      707\n",
       "4      419\n",
       "5      274\n",
       "6      145\n",
       "7       55\n",
       "8       40\n",
       "9       22\n",
       "10       9\n",
       "12       8\n",
       "11       5\n",
       "16       1\n",
       "15       1\n",
       "17       1\n",
       "21       1\n",
       "18       1\n",
       "Name:  numents, dtype: int64"
      ]
     },
     "execution_count": 24,
     "metadata": {},
     "output_type": "execute_result"
    }
   ],
   "source": [
    "df1[' numents'].value_counts()"
   ]
  },
  {
   "cell_type": "code",
   "execution_count": 25,
   "metadata": {},
   "outputs": [],
   "source": [
    "df2 = df[[' sentlen', ' percentcorrect_spacy', ' percentcorrect_stanza']]"
   ]
  },
  {
   "cell_type": "code",
   "execution_count": 26,
   "metadata": {},
   "outputs": [
    {
     "data": {
      "text/plain": [
       "2      507\n",
       "11     333\n",
       "7      305\n",
       "9      299\n",
       "8      292\n",
       "13     281\n",
       "15     280\n",
       "6      273\n",
       "17     267\n",
       "10     266\n",
       "14     262\n",
       "16     255\n",
       "12     252\n",
       "5      252\n",
       "18     252\n",
       "19     220\n",
       "20     217\n",
       "21     208\n",
       "4      204\n",
       "23     194\n",
       "3      187\n",
       "22     186\n",
       "25     160\n",
       "24     156\n",
       "26     147\n",
       "27     145\n",
       "28     143\n",
       "31     122\n",
       "29     112\n",
       "30     111\n",
       "      ... \n",
       "79       4\n",
       "67       4\n",
       "68       4\n",
       "74       4\n",
       "69       4\n",
       "80       3\n",
       "60       3\n",
       "71       3\n",
       "86       3\n",
       "75       3\n",
       "76       3\n",
       "66       2\n",
       "72       2\n",
       "83       2\n",
       "98       2\n",
       "82       2\n",
       "108      2\n",
       "88       1\n",
       "151      1\n",
       "104      1\n",
       "73       1\n",
       "81       1\n",
       "89       1\n",
       "87       1\n",
       "84       1\n",
       "100      1\n",
       "78       1\n",
       "94       1\n",
       "102      1\n",
       "115      1\n",
       "Name:  sentlen, Length: 95, dtype: int64"
      ]
     },
     "execution_count": 26,
     "metadata": {},
     "output_type": "execute_result"
    }
   ],
   "source": [
    "df2[' sentlen'].value_counts()"
   ]
  },
  {
   "cell_type": "code",
   "execution_count": 34,
   "metadata": {},
   "outputs": [],
   "source": [
    "df3 = df2.groupby([' sentlen']).mean().reset_index()"
   ]
  },
  {
   "cell_type": "code",
   "execution_count": 35,
   "metadata": {},
   "outputs": [
    {
     "data": {
      "text/plain": [
       "Index([' sentlen', ' percentcorrect_spacy', ' percentcorrect_stanza'], dtype='object')"
      ]
     },
     "execution_count": 35,
     "metadata": {},
     "output_type": "execute_result"
    }
   ],
   "source": [
    "df3.columns"
   ]
  },
  {
   "cell_type": "code",
   "execution_count": 38,
   "metadata": {},
   "outputs": [],
   "source": [
    "df3.to_csv(\"results/senlen-summarystats.csv\",sep=\",\",index=False,header=True)"
   ]
  },
  {
   "cell_type": "code",
   "execution_count": null,
   "metadata": {},
   "outputs": [],
   "source": []
  }
 ],
 "metadata": {
  "kernelspec": {
   "display_name": "Python 3",
   "language": "python",
   "name": "python3"
  },
  "language_info": {
   "codemirror_mode": {
    "name": "ipython",
    "version": 3
   },
   "file_extension": ".py",
   "mimetype": "text/x-python",
   "name": "python",
   "nbconvert_exporter": "python",
   "pygments_lexer": "ipython3",
   "version": "3.7.2"
  }
 },
 "nbformat": 4,
 "nbformat_minor": 2
}
